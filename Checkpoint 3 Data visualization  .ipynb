{
 "cells": [
  {
   "cell_type": "markdown",
   "id": "c1b30885",
   "metadata": {},
   "source": [
    "# let's practice what we have learned so far and visualize some data!\n",
    "\n",
    "In order to validate this checkpoint you are asked to accomplish the following tasks:\n"
   ]
  },
  {
   "cell_type": "markdown",
   "id": "ab89fd23",
   "metadata": {},
   "source": [
    "# Preprocessing phase.\n",
    "After importing the dataset using Pandas start by showing the head of the dataset then some general information about the data columns and values.\n",
    "\n",
    "As a next step, apply what you have learned in the course to preprocess your data: find missing information and replace it with the appropriate values.\n",
    "\n",
    "Verify that your data is ready to be treated."
   ]
  },
  {
   "cell_type": "code",
   "execution_count": 2,
   "id": "5e12c5b5",
   "metadata": {},
   "outputs": [],
   "source": [
    "import pandas as pd\n",
    "import numpy as np\n",
    "import matplotlib.pyplot as plt\n",
    "import seaborn as sns\n",
    "%matplotlib inline"
   ]
  },
  {
   "cell_type": "code",
   "execution_count": null,
   "id": "dff5e2ef",
   "metadata": {
    "scrolled": true
   },
   "outputs": [],
   "source": []
  },
  {
   "cell_type": "code",
   "execution_count": 3,
   "id": "c238cb9d",
   "metadata": {},
   "outputs": [
    {
     "data": {
      "text/html": [
       "<div>\n",
       "<style scoped>\n",
       "    .dataframe tbody tr th:only-of-type {\n",
       "        vertical-align: middle;\n",
       "    }\n",
       "\n",
       "    .dataframe tbody tr th {\n",
       "        vertical-align: top;\n",
       "    }\n",
       "\n",
       "    .dataframe thead th {\n",
       "        text-align: right;\n",
       "    }\n",
       "</style>\n",
       "<table border=\"1\" class=\"dataframe\">\n",
       "  <thead>\n",
       "    <tr style=\"text-align: right;\">\n",
       "      <th></th>\n",
       "      <th>PassengerId</th>\n",
       "      <th>Survived</th>\n",
       "      <th>Pclass</th>\n",
       "      <th>Name</th>\n",
       "      <th>Sex</th>\n",
       "      <th>Age</th>\n",
       "      <th>SibSp</th>\n",
       "      <th>Parch</th>\n",
       "      <th>Ticket</th>\n",
       "      <th>Fare</th>\n",
       "      <th>Cabin</th>\n",
       "      <th>Embarked</th>\n",
       "    </tr>\n",
       "  </thead>\n",
       "  <tbody>\n",
       "    <tr>\n",
       "      <th>0</th>\n",
       "      <td>343</td>\n",
       "      <td>No</td>\n",
       "      <td>2</td>\n",
       "      <td>Collander, Mr. Erik Gustaf</td>\n",
       "      <td>male</td>\n",
       "      <td>28.0</td>\n",
       "      <td>0</td>\n",
       "      <td>0</td>\n",
       "      <td>248740</td>\n",
       "      <td>13.0000</td>\n",
       "      <td>NaN</td>\n",
       "      <td>S</td>\n",
       "    </tr>\n",
       "    <tr>\n",
       "      <th>1</th>\n",
       "      <td>76</td>\n",
       "      <td>No</td>\n",
       "      <td>3</td>\n",
       "      <td>Moen, Mr. Sigurd Hansen</td>\n",
       "      <td>male</td>\n",
       "      <td>25.0</td>\n",
       "      <td>0</td>\n",
       "      <td>0</td>\n",
       "      <td>348123</td>\n",
       "      <td>7.6500</td>\n",
       "      <td>F G73</td>\n",
       "      <td>S</td>\n",
       "    </tr>\n",
       "    <tr>\n",
       "      <th>2</th>\n",
       "      <td>641</td>\n",
       "      <td>No</td>\n",
       "      <td>3</td>\n",
       "      <td>Jensen, Mr. Hans Peder</td>\n",
       "      <td>male</td>\n",
       "      <td>20.0</td>\n",
       "      <td>0</td>\n",
       "      <td>0</td>\n",
       "      <td>350050</td>\n",
       "      <td>7.8542</td>\n",
       "      <td>NaN</td>\n",
       "      <td>S</td>\n",
       "    </tr>\n",
       "    <tr>\n",
       "      <th>3</th>\n",
       "      <td>568</td>\n",
       "      <td>No</td>\n",
       "      <td>3</td>\n",
       "      <td>Palsson, Mrs. Nils (Alma Cornelia Berglund)</td>\n",
       "      <td>female</td>\n",
       "      <td>29.0</td>\n",
       "      <td>0</td>\n",
       "      <td>4</td>\n",
       "      <td>349909</td>\n",
       "      <td>21.0750</td>\n",
       "      <td>NaN</td>\n",
       "      <td>S</td>\n",
       "    </tr>\n",
       "    <tr>\n",
       "      <th>4</th>\n",
       "      <td>672</td>\n",
       "      <td>No</td>\n",
       "      <td>1</td>\n",
       "      <td>Davidson, Mr. Thornton</td>\n",
       "      <td>male</td>\n",
       "      <td>31.0</td>\n",
       "      <td>1</td>\n",
       "      <td>0</td>\n",
       "      <td>F.C. 12750</td>\n",
       "      <td>52.0000</td>\n",
       "      <td>B71</td>\n",
       "      <td>S</td>\n",
       "    </tr>\n",
       "  </tbody>\n",
       "</table>\n",
       "</div>"
      ],
      "text/plain": [
       "   PassengerId Survived  Pclass                                         Name  \\\n",
       "0          343       No       2                   Collander, Mr. Erik Gustaf   \n",
       "1           76       No       3                      Moen, Mr. Sigurd Hansen   \n",
       "2          641       No       3                       Jensen, Mr. Hans Peder   \n",
       "3          568       No       3  Palsson, Mrs. Nils (Alma Cornelia Berglund)   \n",
       "4          672       No       1                       Davidson, Mr. Thornton   \n",
       "\n",
       "      Sex   Age  SibSp  Parch      Ticket     Fare  Cabin Embarked  \n",
       "0    male  28.0      0      0      248740  13.0000    NaN        S  \n",
       "1    male  25.0      0      0      348123   7.6500  F G73        S  \n",
       "2    male  20.0      0      0      350050   7.8542    NaN        S  \n",
       "3  female  29.0      0      4      349909  21.0750    NaN        S  \n",
       "4    male  31.0      1      0  F.C. 12750  52.0000    B71        S  "
      ]
     },
     "execution_count": 3,
     "metadata": {},
     "output_type": "execute_result"
    }
   ],
   "source": [
    "data = pd.read_csv(\"titanic-passengers.csv\") \n",
    "data.shape\n",
    "data.head()"
   ]
  },
  {
   "cell_type": "code",
   "execution_count": 4,
   "id": "a20ddba5",
   "metadata": {},
   "outputs": [
    {
     "data": {
      "text/html": [
       "<div>\n",
       "<style scoped>\n",
       "    .dataframe tbody tr th:only-of-type {\n",
       "        vertical-align: middle;\n",
       "    }\n",
       "\n",
       "    .dataframe tbody tr th {\n",
       "        vertical-align: top;\n",
       "    }\n",
       "\n",
       "    .dataframe thead th {\n",
       "        text-align: right;\n",
       "    }\n",
       "</style>\n",
       "<table border=\"1\" class=\"dataframe\">\n",
       "  <thead>\n",
       "    <tr style=\"text-align: right;\">\n",
       "      <th></th>\n",
       "      <th>PassengerId</th>\n",
       "      <th>Survived</th>\n",
       "      <th>Pclass</th>\n",
       "      <th>Name</th>\n",
       "      <th>Sex</th>\n",
       "      <th>Age</th>\n",
       "      <th>SibSp</th>\n",
       "      <th>Parch</th>\n",
       "      <th>Ticket</th>\n",
       "      <th>Fare</th>\n",
       "      <th>Cabin</th>\n",
       "      <th>Embarked</th>\n",
       "    </tr>\n",
       "  </thead>\n",
       "  <tbody>\n",
       "    <tr>\n",
       "      <th>0</th>\n",
       "      <td>343</td>\n",
       "      <td>No</td>\n",
       "      <td>2</td>\n",
       "      <td>Collander, Mr. Erik Gustaf</td>\n",
       "      <td>male</td>\n",
       "      <td>28.0</td>\n",
       "      <td>0</td>\n",
       "      <td>0</td>\n",
       "      <td>248740</td>\n",
       "      <td>13.0000</td>\n",
       "      <td>NaN</td>\n",
       "      <td>S</td>\n",
       "    </tr>\n",
       "    <tr>\n",
       "      <th>1</th>\n",
       "      <td>76</td>\n",
       "      <td>No</td>\n",
       "      <td>3</td>\n",
       "      <td>Moen, Mr. Sigurd Hansen</td>\n",
       "      <td>male</td>\n",
       "      <td>25.0</td>\n",
       "      <td>0</td>\n",
       "      <td>0</td>\n",
       "      <td>348123</td>\n",
       "      <td>7.6500</td>\n",
       "      <td>F G73</td>\n",
       "      <td>S</td>\n",
       "    </tr>\n",
       "    <tr>\n",
       "      <th>2</th>\n",
       "      <td>641</td>\n",
       "      <td>No</td>\n",
       "      <td>3</td>\n",
       "      <td>Jensen, Mr. Hans Peder</td>\n",
       "      <td>male</td>\n",
       "      <td>20.0</td>\n",
       "      <td>0</td>\n",
       "      <td>0</td>\n",
       "      <td>350050</td>\n",
       "      <td>7.8542</td>\n",
       "      <td>NaN</td>\n",
       "      <td>S</td>\n",
       "    </tr>\n",
       "    <tr>\n",
       "      <th>3</th>\n",
       "      <td>568</td>\n",
       "      <td>No</td>\n",
       "      <td>3</td>\n",
       "      <td>Palsson, Mrs. Nils (Alma Cornelia Berglund)</td>\n",
       "      <td>female</td>\n",
       "      <td>29.0</td>\n",
       "      <td>0</td>\n",
       "      <td>4</td>\n",
       "      <td>349909</td>\n",
       "      <td>21.0750</td>\n",
       "      <td>NaN</td>\n",
       "      <td>S</td>\n",
       "    </tr>\n",
       "    <tr>\n",
       "      <th>4</th>\n",
       "      <td>672</td>\n",
       "      <td>No</td>\n",
       "      <td>1</td>\n",
       "      <td>Davidson, Mr. Thornton</td>\n",
       "      <td>male</td>\n",
       "      <td>31.0</td>\n",
       "      <td>1</td>\n",
       "      <td>0</td>\n",
       "      <td>F.C. 12750</td>\n",
       "      <td>52.0000</td>\n",
       "      <td>B71</td>\n",
       "      <td>S</td>\n",
       "    </tr>\n",
       "    <tr>\n",
       "      <th>...</th>\n",
       "      <td>...</td>\n",
       "      <td>...</td>\n",
       "      <td>...</td>\n",
       "      <td>...</td>\n",
       "      <td>...</td>\n",
       "      <td>...</td>\n",
       "      <td>...</td>\n",
       "      <td>...</td>\n",
       "      <td>...</td>\n",
       "      <td>...</td>\n",
       "      <td>...</td>\n",
       "      <td>...</td>\n",
       "    </tr>\n",
       "    <tr>\n",
       "      <th>886</th>\n",
       "      <td>10</td>\n",
       "      <td>Yes</td>\n",
       "      <td>2</td>\n",
       "      <td>Nasser, Mrs. Nicholas (Adele Achem)</td>\n",
       "      <td>female</td>\n",
       "      <td>14.0</td>\n",
       "      <td>1</td>\n",
       "      <td>0</td>\n",
       "      <td>237736</td>\n",
       "      <td>30.0708</td>\n",
       "      <td>NaN</td>\n",
       "      <td>C</td>\n",
       "    </tr>\n",
       "    <tr>\n",
       "      <th>887</th>\n",
       "      <td>61</td>\n",
       "      <td>No</td>\n",
       "      <td>3</td>\n",
       "      <td>Sirayanian, Mr. Orsen</td>\n",
       "      <td>male</td>\n",
       "      <td>22.0</td>\n",
       "      <td>0</td>\n",
       "      <td>0</td>\n",
       "      <td>2669</td>\n",
       "      <td>7.2292</td>\n",
       "      <td>NaN</td>\n",
       "      <td>C</td>\n",
       "    </tr>\n",
       "    <tr>\n",
       "      <th>888</th>\n",
       "      <td>535</td>\n",
       "      <td>No</td>\n",
       "      <td>3</td>\n",
       "      <td>Cacic, Miss. Marija</td>\n",
       "      <td>female</td>\n",
       "      <td>30.0</td>\n",
       "      <td>0</td>\n",
       "      <td>0</td>\n",
       "      <td>315084</td>\n",
       "      <td>8.6625</td>\n",
       "      <td>NaN</td>\n",
       "      <td>S</td>\n",
       "    </tr>\n",
       "    <tr>\n",
       "      <th>889</th>\n",
       "      <td>102</td>\n",
       "      <td>No</td>\n",
       "      <td>3</td>\n",
       "      <td>Petroff, Mr. Pastcho (\"Pentcho\")</td>\n",
       "      <td>male</td>\n",
       "      <td>NaN</td>\n",
       "      <td>0</td>\n",
       "      <td>0</td>\n",
       "      <td>349215</td>\n",
       "      <td>7.8958</td>\n",
       "      <td>NaN</td>\n",
       "      <td>S</td>\n",
       "    </tr>\n",
       "    <tr>\n",
       "      <th>890</th>\n",
       "      <td>428</td>\n",
       "      <td>Yes</td>\n",
       "      <td>2</td>\n",
       "      <td>Phillips, Miss. Kate Florence (\"Mrs Kate Louis...</td>\n",
       "      <td>female</td>\n",
       "      <td>19.0</td>\n",
       "      <td>0</td>\n",
       "      <td>0</td>\n",
       "      <td>250655</td>\n",
       "      <td>26.0000</td>\n",
       "      <td>NaN</td>\n",
       "      <td>S</td>\n",
       "    </tr>\n",
       "  </tbody>\n",
       "</table>\n",
       "<p>891 rows × 12 columns</p>\n",
       "</div>"
      ],
      "text/plain": [
       "     PassengerId Survived  Pclass  \\\n",
       "0            343       No       2   \n",
       "1             76       No       3   \n",
       "2            641       No       3   \n",
       "3            568       No       3   \n",
       "4            672       No       1   \n",
       "..           ...      ...     ...   \n",
       "886           10      Yes       2   \n",
       "887           61       No       3   \n",
       "888          535       No       3   \n",
       "889          102       No       3   \n",
       "890          428      Yes       2   \n",
       "\n",
       "                                                  Name     Sex   Age  SibSp  \\\n",
       "0                           Collander, Mr. Erik Gustaf    male  28.0      0   \n",
       "1                              Moen, Mr. Sigurd Hansen    male  25.0      0   \n",
       "2                               Jensen, Mr. Hans Peder    male  20.0      0   \n",
       "3          Palsson, Mrs. Nils (Alma Cornelia Berglund)  female  29.0      0   \n",
       "4                               Davidson, Mr. Thornton    male  31.0      1   \n",
       "..                                                 ...     ...   ...    ...   \n",
       "886                Nasser, Mrs. Nicholas (Adele Achem)  female  14.0      1   \n",
       "887                              Sirayanian, Mr. Orsen    male  22.0      0   \n",
       "888                                Cacic, Miss. Marija  female  30.0      0   \n",
       "889                   Petroff, Mr. Pastcho (\"Pentcho\")    male   NaN      0   \n",
       "890  Phillips, Miss. Kate Florence (\"Mrs Kate Louis...  female  19.0      0   \n",
       "\n",
       "     Parch      Ticket     Fare  Cabin Embarked  \n",
       "0        0      248740  13.0000    NaN        S  \n",
       "1        0      348123   7.6500  F G73        S  \n",
       "2        0      350050   7.8542    NaN        S  \n",
       "3        4      349909  21.0750    NaN        S  \n",
       "4        0  F.C. 12750  52.0000    B71        S  \n",
       "..     ...         ...      ...    ...      ...  \n",
       "886      0      237736  30.0708    NaN        C  \n",
       "887      0        2669   7.2292    NaN        C  \n",
       "888      0      315084   8.6625    NaN        S  \n",
       "889      0      349215   7.8958    NaN        S  \n",
       "890      0      250655  26.0000    NaN        S  \n",
       "\n",
       "[891 rows x 12 columns]"
      ]
     },
     "execution_count": 4,
     "metadata": {},
     "output_type": "execute_result"
    }
   ],
   "source": [
    "data.head(893)"
   ]
  },
  {
   "cell_type": "code",
   "execution_count": null,
   "id": "a9cec8e3",
   "metadata": {},
   "outputs": [],
   "source": []
  },
  {
   "cell_type": "markdown",
   "id": "848d9ddc",
   "metadata": {},
   "source": [
    "As a next step, apply what you have learned in the course to preprocess your data: find missing information and replace it with the appropriate values.\n"
   ]
  },
  {
   "cell_type": "code",
   "execution_count": 5,
   "id": "426d9459",
   "metadata": {},
   "outputs": [],
   "source": [
    "data = data.dropna(axis=0)"
   ]
  },
  {
   "cell_type": "code",
   "execution_count": 6,
   "id": "8d0619ba",
   "metadata": {},
   "outputs": [
    {
     "data": {
      "text/plain": [
       "(183, 12)"
      ]
     },
     "execution_count": 6,
     "metadata": {},
     "output_type": "execute_result"
    }
   ],
   "source": [
    "data.shape"
   ]
  },
  {
   "cell_type": "markdown",
   "id": "b829ce77",
   "metadata": {},
   "source": [
    "Verify that your data is ready to be treated."
   ]
  },
  {
   "cell_type": "code",
   "execution_count": 7,
   "id": "5fb911d2",
   "metadata": {},
   "outputs": [
    {
     "data": {
      "text/html": [
       "<div>\n",
       "<style scoped>\n",
       "    .dataframe tbody tr th:only-of-type {\n",
       "        vertical-align: middle;\n",
       "    }\n",
       "\n",
       "    .dataframe tbody tr th {\n",
       "        vertical-align: top;\n",
       "    }\n",
       "\n",
       "    .dataframe thead th {\n",
       "        text-align: right;\n",
       "    }\n",
       "</style>\n",
       "<table border=\"1\" class=\"dataframe\">\n",
       "  <thead>\n",
       "    <tr style=\"text-align: right;\">\n",
       "      <th></th>\n",
       "      <th>PassengerId</th>\n",
       "      <th>Pclass</th>\n",
       "      <th>Age</th>\n",
       "      <th>SibSp</th>\n",
       "      <th>Parch</th>\n",
       "      <th>Fare</th>\n",
       "    </tr>\n",
       "  </thead>\n",
       "  <tbody>\n",
       "    <tr>\n",
       "      <th>count</th>\n",
       "      <td>183.000000</td>\n",
       "      <td>183.000000</td>\n",
       "      <td>183.000000</td>\n",
       "      <td>183.000000</td>\n",
       "      <td>183.000000</td>\n",
       "      <td>183.000000</td>\n",
       "    </tr>\n",
       "    <tr>\n",
       "      <th>mean</th>\n",
       "      <td>455.366120</td>\n",
       "      <td>1.191257</td>\n",
       "      <td>35.674426</td>\n",
       "      <td>0.464481</td>\n",
       "      <td>0.475410</td>\n",
       "      <td>78.682469</td>\n",
       "    </tr>\n",
       "    <tr>\n",
       "      <th>std</th>\n",
       "      <td>247.052476</td>\n",
       "      <td>0.515187</td>\n",
       "      <td>15.643866</td>\n",
       "      <td>0.644159</td>\n",
       "      <td>0.754617</td>\n",
       "      <td>76.347843</td>\n",
       "    </tr>\n",
       "    <tr>\n",
       "      <th>min</th>\n",
       "      <td>2.000000</td>\n",
       "      <td>1.000000</td>\n",
       "      <td>0.920000</td>\n",
       "      <td>0.000000</td>\n",
       "      <td>0.000000</td>\n",
       "      <td>0.000000</td>\n",
       "    </tr>\n",
       "    <tr>\n",
       "      <th>25%</th>\n",
       "      <td>263.500000</td>\n",
       "      <td>1.000000</td>\n",
       "      <td>24.000000</td>\n",
       "      <td>0.000000</td>\n",
       "      <td>0.000000</td>\n",
       "      <td>29.700000</td>\n",
       "    </tr>\n",
       "    <tr>\n",
       "      <th>50%</th>\n",
       "      <td>457.000000</td>\n",
       "      <td>1.000000</td>\n",
       "      <td>36.000000</td>\n",
       "      <td>0.000000</td>\n",
       "      <td>0.000000</td>\n",
       "      <td>57.000000</td>\n",
       "    </tr>\n",
       "    <tr>\n",
       "      <th>75%</th>\n",
       "      <td>676.000000</td>\n",
       "      <td>1.000000</td>\n",
       "      <td>47.500000</td>\n",
       "      <td>1.000000</td>\n",
       "      <td>1.000000</td>\n",
       "      <td>90.000000</td>\n",
       "    </tr>\n",
       "    <tr>\n",
       "      <th>max</th>\n",
       "      <td>890.000000</td>\n",
       "      <td>3.000000</td>\n",
       "      <td>80.000000</td>\n",
       "      <td>3.000000</td>\n",
       "      <td>4.000000</td>\n",
       "      <td>512.329200</td>\n",
       "    </tr>\n",
       "  </tbody>\n",
       "</table>\n",
       "</div>"
      ],
      "text/plain": [
       "       PassengerId      Pclass         Age       SibSp       Parch        Fare\n",
       "count   183.000000  183.000000  183.000000  183.000000  183.000000  183.000000\n",
       "mean    455.366120    1.191257   35.674426    0.464481    0.475410   78.682469\n",
       "std     247.052476    0.515187   15.643866    0.644159    0.754617   76.347843\n",
       "min       2.000000    1.000000    0.920000    0.000000    0.000000    0.000000\n",
       "25%     263.500000    1.000000   24.000000    0.000000    0.000000   29.700000\n",
       "50%     457.000000    1.000000   36.000000    0.000000    0.000000   57.000000\n",
       "75%     676.000000    1.000000   47.500000    1.000000    1.000000   90.000000\n",
       "max     890.000000    3.000000   80.000000    3.000000    4.000000  512.329200"
      ]
     },
     "execution_count": 7,
     "metadata": {},
     "output_type": "execute_result"
    }
   ],
   "source": [
    "data.describe()"
   ]
  },
  {
   "cell_type": "markdown",
   "id": "6e95eb06",
   "metadata": {},
   "source": [
    "# 2. Visualization phase:\n",
    "\n",
    "Let’s begin now with the data visualization phase: \n",
    "\n",
    "Start by studying the distribution of the most important features based on your understanding of the dataset and the problem."
   ]
  },
  {
   "cell_type": "code",
   "execution_count": 8,
   "id": "6b87af04",
   "metadata": {},
   "outputs": [],
   "source": [
    "data = data.drop(['Name', 'SibSp', 'Parch', 'Ticket', 'Fare', 'Cabin', 'Embarked'], axis=1)"
   ]
  },
  {
   "cell_type": "code",
   "execution_count": 9,
   "id": "f91f4475",
   "metadata": {},
   "outputs": [
    {
     "data": {
      "text/plain": [
       "(183, 5)"
      ]
     },
     "execution_count": 9,
     "metadata": {},
     "output_type": "execute_result"
    }
   ],
   "source": [
    "data.shape"
   ]
  },
  {
   "cell_type": "code",
   "execution_count": 10,
   "id": "a5e44bff",
   "metadata": {},
   "outputs": [
    {
     "data": {
      "text/html": [
       "<div>\n",
       "<style scoped>\n",
       "    .dataframe tbody tr th:only-of-type {\n",
       "        vertical-align: middle;\n",
       "    }\n",
       "\n",
       "    .dataframe tbody tr th {\n",
       "        vertical-align: top;\n",
       "    }\n",
       "\n",
       "    .dataframe thead th {\n",
       "        text-align: right;\n",
       "    }\n",
       "</style>\n",
       "<table border=\"1\" class=\"dataframe\">\n",
       "  <thead>\n",
       "    <tr style=\"text-align: right;\">\n",
       "      <th></th>\n",
       "      <th>PassengerId</th>\n",
       "      <th>Pclass</th>\n",
       "      <th>Age</th>\n",
       "    </tr>\n",
       "  </thead>\n",
       "  <tbody>\n",
       "    <tr>\n",
       "      <th>count</th>\n",
       "      <td>183.000000</td>\n",
       "      <td>183.000000</td>\n",
       "      <td>183.000000</td>\n",
       "    </tr>\n",
       "    <tr>\n",
       "      <th>mean</th>\n",
       "      <td>455.366120</td>\n",
       "      <td>1.191257</td>\n",
       "      <td>35.674426</td>\n",
       "    </tr>\n",
       "    <tr>\n",
       "      <th>std</th>\n",
       "      <td>247.052476</td>\n",
       "      <td>0.515187</td>\n",
       "      <td>15.643866</td>\n",
       "    </tr>\n",
       "    <tr>\n",
       "      <th>min</th>\n",
       "      <td>2.000000</td>\n",
       "      <td>1.000000</td>\n",
       "      <td>0.920000</td>\n",
       "    </tr>\n",
       "    <tr>\n",
       "      <th>25%</th>\n",
       "      <td>263.500000</td>\n",
       "      <td>1.000000</td>\n",
       "      <td>24.000000</td>\n",
       "    </tr>\n",
       "    <tr>\n",
       "      <th>50%</th>\n",
       "      <td>457.000000</td>\n",
       "      <td>1.000000</td>\n",
       "      <td>36.000000</td>\n",
       "    </tr>\n",
       "    <tr>\n",
       "      <th>75%</th>\n",
       "      <td>676.000000</td>\n",
       "      <td>1.000000</td>\n",
       "      <td>47.500000</td>\n",
       "    </tr>\n",
       "    <tr>\n",
       "      <th>max</th>\n",
       "      <td>890.000000</td>\n",
       "      <td>3.000000</td>\n",
       "      <td>80.000000</td>\n",
       "    </tr>\n",
       "  </tbody>\n",
       "</table>\n",
       "</div>"
      ],
      "text/plain": [
       "       PassengerId      Pclass         Age\n",
       "count   183.000000  183.000000  183.000000\n",
       "mean    455.366120    1.191257   35.674426\n",
       "std     247.052476    0.515187   15.643866\n",
       "min       2.000000    1.000000    0.920000\n",
       "25%     263.500000    1.000000   24.000000\n",
       "50%     457.000000    1.000000   36.000000\n",
       "75%     676.000000    1.000000   47.500000\n",
       "max     890.000000    3.000000   80.000000"
      ]
     },
     "execution_count": 10,
     "metadata": {},
     "output_type": "execute_result"
    }
   ],
   "source": [
    "data.describe()"
   ]
  },
  {
   "cell_type": "markdown",
   "id": "8d91837c",
   "metadata": {},
   "source": [
    "Visualize the correlation between Sex and Age in a plot of your choosing. The visualized plot should give us obvious deductions concerning the importance of age and sex in the survival of the individuals."
   ]
  },
  {
   "cell_type": "code",
   "execution_count": null,
   "id": "68a104af",
   "metadata": {},
   "outputs": [],
   "source": []
  },
  {
   "cell_type": "code",
   "execution_count": null,
   "id": "ea204003",
   "metadata": {},
   "outputs": [],
   "source": []
  },
  {
   "cell_type": "code",
   "execution_count": null,
   "id": "cb1c72c2",
   "metadata": {},
   "outputs": [],
   "source": []
  },
  {
   "cell_type": "code",
   "execution_count": 23,
   "id": "c14130ab",
   "metadata": {},
   "outputs": [
    {
     "data": {
      "text/plain": [
       "<AxesSubplot:xlabel='Age', ylabel='Sex'>"
      ]
     },
     "execution_count": 23,
     "metadata": {},
     "output_type": "execute_result"
    },
    {
     "data": {
      "image/png": "[encoded data removed]",
      "text/plain": [
       "<Figure size 432x288 with 1 Axes>"
      ]
     },
     "metadata": {
      "needs_background": "light"
     },
     "output_type": "display_data"
    }
   ],
   "source": [
    "sns.barplot(data=data, x='Age', y='Sex', hue ='Survived') "
   ]
  },
  {
   "cell_type": "markdown",
   "id": "309975e5",
   "metadata": {},
   "source": [
    "Pick two other features and study their impact on the survival of the individuals.\n"
   ]
  },
  {
   "cell_type": "code",
   "execution_count": 25,
   "id": "c6c07ac7",
   "metadata": {},
   "outputs": [
    {
     "data": {
      "image/png": "[encoded data removed]",
      "text/plain": [
       "<Figure size 432x288 with 1 Axes>"
      ]
     },
     "metadata": {
      "needs_background": "light"
     },
     "output_type": "display_data"
    }
   ],
   "source": [
    "sns.barplot(x='Age', y='Survived', hue='Pclass', data=data)\n",
    "plt.ylabel(\"Survival Rate\")\n",
    "plt.title(\"Survival as function of Age\")\n",
    "plt.show()\n"
   ]
  },
  {
   "cell_type": "code",
   "execution_count": 27,
   "id": "4cd63722",
   "metadata": {},
   "outputs": [
    {
     "data": {
      "text/plain": [
       "<AxesSubplot:xlabel='Pclass', ylabel='PassengerId'>"
      ]
     },
     "execution_count": 27,
     "metadata": {},
     "output_type": "execute_result"
    },
    {
     "data": {
      "image/png": "[encoded data removed]",
      "text/plain": [
       "<Figure size 432x288 with 1 Axes>"
      ]
     },
     "metadata": {
      "needs_background": "light"
     },
     "output_type": "display_data"
    }
   ],
   "source": [
    "sns.barplot(data=data, x='Pclass', y='PassengerId', hue ='Survived')"
   ]
  },
  {
   "cell_type": "markdown",
   "id": "e8d2a35d",
   "metadata": {},
   "source": [
    "Have a look at this function:\n",
    "\n",
    "def plot_correlation_map( df ):\n",
    "\n",
    "    corr = df.corr()\n",
    "\n",
    "    s , ax = plt.subplots( figsize =( 12 , 10 ) )\n",
    "\n",
    "    cmap = sns.diverging_palette( 220 , 10 , as_cmap = True )\n",
    "\n",
    "    s = sns.heatmap(\n",
    "\n",
    "        corr, \n",
    "\n",
    "        cmap = cmap,\n",
    "\n",
    "        square=True, \n",
    "\n",
    "        cbar_kws={ 'shrink' : .9 }, \n",
    "\n",
    "        ax=ax, \n",
    "\n",
    "        annot = True, \n",
    "\n",
    "        annot_kws = { 'fontsize' : 12 }\n",
    "\n",
    "        )"
   ]
  },
  {
   "cell_type": "code",
   "execution_count": 35,
   "id": "e00dd010",
   "metadata": {},
   "outputs": [],
   "source": [
    "def plot_correlation_map( df ):\n",
    "\n",
    "    corr = data.corr()\n",
    "\n",
    "    s , ax = plt.subplots( figsize =( 12 , 10 ) )\n",
    "\n",
    "    cmap = sns.diverging_palette( 220 , 10 , as_cmap = True )\n",
    "\n",
    "    s = sns.heatmap(\n",
    "\n",
    "        corr, \n",
    "\n",
    "        cmap = cmap,\n",
    "\n",
    "        square=True, \n",
    "\n",
    "        cbar_kws={ 'shrink' : .9 }, \n",
    "\n",
    "        ax=ax, \n",
    "\n",
    "        annot = True, \n",
    "\n",
    "        annot_kws = { 'fontsize' : 12 }\n",
    "\n",
    "        )\n",
    "  "
   ]
  },
  {
   "cell_type": "markdown",
   "id": "a73c78a6",
   "metadata": {},
   "source": [
    "Try running the function, analyze what it does exactly and its utilities and finally, write a paragraph describing your analysis (the paragraph should be in English)."
   ]
  },
  {
   "cell_type": "raw",
   "id": "861e2159",
   "metadata": {},
   "source": [
    "\n",
    "Use the groupby function combined with the mean() to view the relation between Pclass and survived "
   ]
  },
  {
   "cell_type": "code",
   "execution_count": 39,
   "id": "f31dc104",
   "metadata": {},
   "outputs": [
    {
     "data": {
      "text/html": [
       "<div>\n",
       "<style scoped>\n",
       "    .dataframe tbody tr th:only-of-type {\n",
       "        vertical-align: middle;\n",
       "    }\n",
       "\n",
       "    .dataframe tbody tr th {\n",
       "        vertical-align: top;\n",
       "    }\n",
       "\n",
       "    .dataframe thead th {\n",
       "        text-align: right;\n",
       "    }\n",
       "</style>\n",
       "<table border=\"1\" class=\"dataframe\">\n",
       "  <thead>\n",
       "    <tr style=\"text-align: right;\">\n",
       "      <th></th>\n",
       "      <th></th>\n",
       "      <th>PassengerId</th>\n",
       "      <th>Age</th>\n",
       "    </tr>\n",
       "    <tr>\n",
       "      <th>Pclass</th>\n",
       "      <th>Survived</th>\n",
       "      <th></th>\n",
       "      <th></th>\n",
       "    </tr>\n",
       "  </thead>\n",
       "  <tbody>\n",
       "    <tr>\n",
       "      <th rowspan=\"2\" valign=\"top\">1</th>\n",
       "      <th>No</th>\n",
       "      <td>404.115385</td>\n",
       "      <td>42.971154</td>\n",
       "    </tr>\n",
       "    <tr>\n",
       "      <th>Yes</th>\n",
       "      <td>498.179245</td>\n",
       "      <td>34.952075</td>\n",
       "    </tr>\n",
       "    <tr>\n",
       "      <th rowspan=\"2\" valign=\"top\">2</th>\n",
       "      <th>No</th>\n",
       "      <td>405.000000</td>\n",
       "      <td>43.166667</td>\n",
       "    </tr>\n",
       "    <tr>\n",
       "      <th>Yes</th>\n",
       "      <td>327.833333</td>\n",
       "      <td>20.791667</td>\n",
       "    </tr>\n",
       "    <tr>\n",
       "      <th rowspan=\"2\" valign=\"top\">3</th>\n",
       "      <th>No</th>\n",
       "      <td>390.000000</td>\n",
       "      <td>23.400000</td>\n",
       "    </tr>\n",
       "    <tr>\n",
       "      <th>Yes</th>\n",
       "      <td>482.400000</td>\n",
       "      <td>18.600000</td>\n",
       "    </tr>\n",
       "  </tbody>\n",
       "</table>\n",
       "</div>"
      ],
      "text/plain": [
       "                 PassengerId        Age\n",
       "Pclass Survived                        \n",
       "1      No         404.115385  42.971154\n",
       "       Yes        498.179245  34.952075\n",
       "2      No         405.000000  43.166667\n",
       "       Yes        327.833333  20.791667\n",
       "3      No         390.000000  23.400000\n",
       "       Yes        482.400000  18.600000"
      ]
     },
     "execution_count": 39,
     "metadata": {},
     "output_type": "execute_result"
    }
   ],
   "source": [
    "data.groupby(['Pclass', 'Survived']).mean()"
   ]
  },
  {
   "cell_type": "raw",
   "id": "8536e6b4",
   "metadata": {},
   "source": [
    "Your task now is to create a new column called Title which contains the appropriate Title for each individual ( hint: extract the title from the column Names)"
   ]
  },
  {
   "cell_type": "code",
   "execution_count": 69,
   "id": "36e5f57b",
   "metadata": {
    "scrolled": true
   },
   "outputs": [
    {
     "data": {
      "text/html": [
       "<div>\n",
       "<style scoped>\n",
       "    .dataframe tbody tr th:only-of-type {\n",
       "        vertical-align: middle;\n",
       "    }\n",
       "\n",
       "    .dataframe tbody tr th {\n",
       "        vertical-align: top;\n",
       "    }\n",
       "\n",
       "    .dataframe thead th {\n",
       "        text-align: right;\n",
       "    }\n",
       "</style>\n",
       "<table border=\"1\" class=\"dataframe\">\n",
       "  <thead>\n",
       "    <tr style=\"text-align: right;\">\n",
       "      <th></th>\n",
       "      <th>PassengerId</th>\n",
       "      <th>Survived</th>\n",
       "      <th>Pclass</th>\n",
       "      <th>Name</th>\n",
       "      <th>Sex</th>\n",
       "      <th>Age</th>\n",
       "      <th>SibSp</th>\n",
       "      <th>Parch</th>\n",
       "      <th>Ticket</th>\n",
       "      <th>Fare</th>\n",
       "      <th>Cabin</th>\n",
       "      <th>Embarked</th>\n",
       "    </tr>\n",
       "  </thead>\n",
       "  <tbody>\n",
       "    <tr>\n",
       "      <th>0</th>\n",
       "      <td>343</td>\n",
       "      <td>No</td>\n",
       "      <td>2</td>\n",
       "      <td>Collander, Mr. Erik Gustaf</td>\n",
       "      <td>male</td>\n",
       "      <td>28.0</td>\n",
       "      <td>0</td>\n",
       "      <td>0</td>\n",
       "      <td>248740</td>\n",
       "      <td>13.0000</td>\n",
       "      <td>NaN</td>\n",
       "      <td>S</td>\n",
       "    </tr>\n",
       "    <tr>\n",
       "      <th>1</th>\n",
       "      <td>76</td>\n",
       "      <td>No</td>\n",
       "      <td>3</td>\n",
       "      <td>Moen, Mr. Sigurd Hansen</td>\n",
       "      <td>male</td>\n",
       "      <td>25.0</td>\n",
       "      <td>0</td>\n",
       "      <td>0</td>\n",
       "      <td>348123</td>\n",
       "      <td>7.6500</td>\n",
       "      <td>F G73</td>\n",
       "      <td>S</td>\n",
       "    </tr>\n",
       "    <tr>\n",
       "      <th>2</th>\n",
       "      <td>641</td>\n",
       "      <td>No</td>\n",
       "      <td>3</td>\n",
       "      <td>Jensen, Mr. Hans Peder</td>\n",
       "      <td>male</td>\n",
       "      <td>20.0</td>\n",
       "      <td>0</td>\n",
       "      <td>0</td>\n",
       "      <td>350050</td>\n",
       "      <td>7.8542</td>\n",
       "      <td>NaN</td>\n",
       "      <td>S</td>\n",
       "    </tr>\n",
       "    <tr>\n",
       "      <th>3</th>\n",
       "      <td>568</td>\n",
       "      <td>No</td>\n",
       "      <td>3</td>\n",
       "      <td>Palsson, Mrs. Nils (Alma Cornelia Berglund)</td>\n",
       "      <td>female</td>\n",
       "      <td>29.0</td>\n",
       "      <td>0</td>\n",
       "      <td>4</td>\n",
       "      <td>349909</td>\n",
       "      <td>21.0750</td>\n",
       "      <td>NaN</td>\n",
       "      <td>S</td>\n",
       "    </tr>\n",
       "    <tr>\n",
       "      <th>4</th>\n",
       "      <td>672</td>\n",
       "      <td>No</td>\n",
       "      <td>1</td>\n",
       "      <td>Davidson, Mr. Thornton</td>\n",
       "      <td>male</td>\n",
       "      <td>31.0</td>\n",
       "      <td>1</td>\n",
       "      <td>0</td>\n",
       "      <td>F.C. 12750</td>\n",
       "      <td>52.0000</td>\n",
       "      <td>B71</td>\n",
       "      <td>S</td>\n",
       "    </tr>\n",
       "  </tbody>\n",
       "</table>\n",
       "</div>"
      ],
      "text/plain": [
       "   PassengerId Survived  Pclass                                         Name  \\\n",
       "0          343       No       2                   Collander, Mr. Erik Gustaf   \n",
       "1           76       No       3                      Moen, Mr. Sigurd Hansen   \n",
       "2          641       No       3                       Jensen, Mr. Hans Peder   \n",
       "3          568       No       3  Palsson, Mrs. Nils (Alma Cornelia Berglund)   \n",
       "4          672       No       1                       Davidson, Mr. Thornton   \n",
       "\n",
       "      Sex   Age  SibSp  Parch      Ticket     Fare  Cabin Embarked  \n",
       "0    male  28.0      0      0      248740  13.0000    NaN        S  \n",
       "1    male  25.0      0      0      348123   7.6500  F G73        S  \n",
       "2    male  20.0      0      0      350050   7.8542    NaN        S  \n",
       "3  female  29.0      0      4      349909  21.0750    NaN        S  \n",
       "4    male  31.0      1      0  F.C. 12750  52.0000    B71        S  "
      ]
     },
     "execution_count": 69,
     "metadata": {},
     "output_type": "execute_result"
    }
   ],
   "source": [
    "data = pd.read_csv(\"titanic-passengers.csv\") \n",
    "data.shape\n",
    "data.head()"
   ]
  },
  {
   "cell_type": "code",
   "execution_count": null,
   "id": "a452e8ec",
   "metadata": {},
   "outputs": [],
   "source": [
    "\n",
    "\n"
   ]
  },
  {
   "cell_type": "code",
   "execution_count": null,
   "id": "1ee6ca9f",
   "metadata": {},
   "outputs": [],
   "source": []
  },
  {
   "cell_type": "code",
   "execution_count": null,
   "id": "28a4c7f8",
   "metadata": {},
   "outputs": [],
   "source": []
  },
  {
   "cell_type": "code",
   "execution_count": null,
   "id": "14767c2f",
   "metadata": {},
   "outputs": [],
   "source": []
  },
  {
   "cell_type": "markdown",
   "id": "2cb80383",
   "metadata": {},
   "source": [
    "It helps in determining if higher-class passengers had more survival rate than the lower class ones or vice versa. Class 1 passengers have a higher survival chance compared to classes 2 and 3. It implies that Pclass contributes a lot to a passenger’s survival rate."
   ]
  },
  {
   "cell_type": "code",
   "execution_count": null,
   "id": "6b987e43",
   "metadata": {},
   "outputs": [],
   "source": []
  },
  {
   "cell_type": "code",
   "execution_count": null,
   "id": "e51ec0bc",
   "metadata": {},
   "outputs": [],
   "source": []
  },
  {
   "cell_type": "code",
   "execution_count": 54,
   "id": "ca37f774",
   "metadata": {},
   "outputs": [
    {
     "ename": "TypeError",
     "evalue": "list indices must be integers or slices, not str",
     "output_type": "error",
     "traceback": [
      "\u001b[1;31m---------------------------------------------------------------------------\u001b[0m",
      "\u001b[1;31mTypeError\u001b[0m                                 Traceback (most recent call last)",
      "\u001b[1;32m<ipython-input-54-992ede1d7f25>\u001b[0m in \u001b[0;36m<module>\u001b[1;34m\u001b[0m\n\u001b[0;32m      1\u001b[0m \u001b[1;31m# Adding a column Family_Size\u001b[0m\u001b[1;33m\u001b[0m\u001b[1;33m\u001b[0m\u001b[1;33m\u001b[0m\u001b[0m\n\u001b[1;32m----> 2\u001b[1;33m \u001b[0mdata\u001b[0m\u001b[1;33m[\u001b[0m\u001b[1;34m'Family_Size'\u001b[0m\u001b[1;33m]\u001b[0m \u001b[1;33m=\u001b[0m \u001b[1;34m'0'\u001b[0m\u001b[1;33m\u001b[0m\u001b[1;33m\u001b[0m\u001b[0m\n\u001b[0m\u001b[0;32m      3\u001b[0m \u001b[0mdata\u001b[0m\u001b[1;33m[\u001b[0m\u001b[1;34m'Family_Size'\u001b[0m\u001b[1;33m]\u001b[0m \u001b[1;33m=\u001b[0m \u001b[0mdata\u001b[0m\u001b[1;33m[\u001b[0m\u001b[1;34m'Parch'\u001b[0m\u001b[1;33m]\u001b[0m\u001b[1;33m+\u001b[0m\u001b[0mdata\u001b[0m\u001b[1;33m[\u001b[0m\u001b[1;34m'SibSp'\u001b[0m\u001b[1;33m]\u001b[0m\u001b[1;33m\u001b[0m\u001b[1;33m\u001b[0m\u001b[0m\n\u001b[0;32m      4\u001b[0m \u001b[1;33m\u001b[0m\u001b[0m\n\u001b[0;32m      5\u001b[0m \u001b[1;31m# Adding a column Alone\u001b[0m\u001b[1;33m\u001b[0m\u001b[1;33m\u001b[0m\u001b[1;33m\u001b[0m\u001b[0m\n",
      "\u001b[1;31mTypeError\u001b[0m: list indices must be integers or slices, not str"
     ]
    }
   ],
   "source": [
    "data['Family_Size'] = '0'\n",
    "data['Family_Size'] = data['Parch']+ data['SibSp']\n",
    " \n",
    "data['Alone'] = '0'\n",
    "data.loc[data.Family_Size == '0', 'Alone'] = '1'\n",
    "sns.factorplot(x ='Family_Size', y ='Survived', data = data)\n",
    "sns.factorplot(x ='Alone', y ='Survived', data = data)"
   ]
  },
  {
   "cell_type": "markdown",
   "id": "7409842f",
   "metadata": {},
   "source": [
    "Finally, use the Parch and the SibSp columns to create a more useful feature, let's call it FamilySize."
   ]
  },
  {
   "cell_type": "code",
   "execution_count": 75,
   "id": "2b812b13",
   "metadata": {},
   "outputs": [
    {
     "ename": "TypeError",
     "evalue": "list indices must be integers or slices, not str",
     "output_type": "error",
     "traceback": [
      "\u001b[1;31m---------------------------------------------------------------------------\u001b[0m",
      "\u001b[1;31mTypeError\u001b[0m                                 Traceback (most recent call last)",
      "\u001b[1;32m<ipython-input-75-eb2adddd65fc>\u001b[0m in \u001b[0;36m<module>\u001b[1;34m\u001b[0m\n\u001b[0;32m      1\u001b[0m \u001b[0mall_data\u001b[0m \u001b[1;33m=\u001b[0m \u001b[1;33m[\u001b[0m\u001b[0mdata\u001b[0m\u001b[1;33m]\u001b[0m\u001b[1;33m\u001b[0m\u001b[1;33m\u001b[0m\u001b[0m\n\u001b[0;32m      2\u001b[0m \u001b[1;32mfor\u001b[0m \u001b[0mdata\u001b[0m \u001b[1;32min\u001b[0m \u001b[0mall_data\u001b[0m\u001b[1;33m:\u001b[0m\u001b[1;33m\u001b[0m\u001b[1;33m\u001b[0m\u001b[0m\n\u001b[1;32m----> 3\u001b[1;33m     \u001b[0mdata\u001b[0m\u001b[1;33m[\u001b[0m\u001b[1;34m'family_size'\u001b[0m\u001b[1;33m]\u001b[0m \u001b[1;33m=\u001b[0m \u001b[0mdata\u001b[0m\u001b[1;33m[\u001b[0m\u001b[1;34m'SibSp'\u001b[0m\u001b[1;33m]\u001b[0m \u001b[1;33m+\u001b[0m \u001b[0mdata\u001b[0m\u001b[1;33m[\u001b[0m\u001b[1;34m'Parch'\u001b[0m\u001b[1;33m]\u001b[0m \u001b[1;33m+\u001b[0m \u001b[1;36m1\u001b[0m\u001b[1;33m\u001b[0m\u001b[1;33m\u001b[0m\u001b[0m\n\u001b[0m\u001b[0;32m      4\u001b[0m \u001b[0mprint\u001b[0m\u001b[1;33m(\u001b[0m \u001b[0mtrain_data\u001b[0m\u001b[1;33m[\u001b[0m\u001b[1;33m[\u001b[0m\u001b[1;34m\"family_size\"\u001b[0m\u001b[1;33m,\u001b[0m\u001b[1;34m\"Survived\"\u001b[0m\u001b[1;33m]\u001b[0m\u001b[1;33m]\u001b[0m\u001b[1;33m.\u001b[0m\u001b[0mgroupby\u001b[0m\u001b[1;33m(\u001b[0m\u001b[1;33m[\u001b[0m\u001b[1;34m\"family_size\"\u001b[0m\u001b[1;33m]\u001b[0m\u001b[1;33m,\u001b[0m \u001b[0mas_index\u001b[0m \u001b[1;33m=\u001b[0m \u001b[1;32mFalse\u001b[0m\u001b[1;33m)\u001b[0m\u001b[1;33m.\u001b[0m\u001b[0mmean\u001b[0m\u001b[1;33m(\u001b[0m\u001b[1;33m)\u001b[0m \u001b[1;33m)\u001b[0m\u001b[1;33m\u001b[0m\u001b[1;33m\u001b[0m\u001b[0m\n",
      "\u001b[1;31mTypeError\u001b[0m: list indices must be integers or slices, not str"
     ]
    }
   ],
   "source": [
    "all_data = [data]\n",
    "for data in all_data:\n",
    "    data['family_size'] = data['SibSp'] + data['Parch'] + 1\n",
    "print( train_data[[\"family_size\",\"Survived\"]].groupby([\"family_size\"], as_index = False).mean() )\n"
   ]
  },
  {
   "cell_type": "markdown",
   "id": "5ff3afb9",
   "metadata": {},
   "source": [
    "Use what you have learned so far to conclude if this feature is useful or not."
   ]
  },
  {
   "cell_type": "code",
   "execution_count": null,
   "id": "d370084c",
   "metadata": {},
   "outputs": [],
   "source": []
  },
  {
   "cell_type": "code",
   "execution_count": null,
   "id": "c4b83e4a",
   "metadata": {},
   "outputs": [],
   "source": []
  },
  {
   "cell_type": "code",
   "execution_count": null,
   "id": "2811ee14",
   "metadata": {},
   "outputs": [],
   "source": []
  },
  {
   "cell_type": "code",
   "execution_count": null,
   "id": "e0c5fad8",
   "metadata": {},
   "outputs": [],
   "source": []
  },
  {
   "cell_type": "code",
   "execution_count": null,
   "id": "870659f0",
   "metadata": {},
   "outputs": [],
   "source": []
  }
 ],
 "metadata": {
  "kernelspec": {
   "display_name": "Python 3",
   "language": "python",
   "name": "python3"
  },
  "language_info": {
   "codemirror_mode": {
    "name": "ipython",
    "version": 3
   },
   "file_extension": ".py",
   "mimetype": "text/x-python",
   "name": "python",
   "nbconvert_exporter": "python",
   "pygments_lexer": "ipython3",
   "version": "3.8.8"
  }
 },
 "nbformat": 4,
 "nbformat_minor": 5
}
